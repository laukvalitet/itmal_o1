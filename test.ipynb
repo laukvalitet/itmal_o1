{
 "metadata": {
  "language_info": {
   "codemirror_mode": {
    "name": "ipython",
    "version": 3
   },
   "file_extension": ".py",
   "mimetype": "text/x-python",
   "name": "python",
   "nbconvert_exporter": "python",
   "pygments_lexer": "ipython3",
   "version": "3.8.5-final"
  },
  "orig_nbformat": 2,
  "kernelspec": {
   "name": "python3",
   "display_name": "Python 3",
   "language": "python"
  }
 },
 "nbformat": 4,
 "nbformat_minor": 2,
 "cells": [
  {
   "cell_type": "code",
   "execution_count": 5,
   "metadata": {},
   "outputs": [
    {
     "output_type": "stream",
     "name": "stdout",
     "text": [
      "6\n"
     ]
    },
    {
     "output_type": "error",
     "ename": "AttributeError",
     "evalue": "'PrivacyExample' object has no attribute '__private_by_name_mangling'",
     "traceback": [
      "\u001b[0;31m---------------------------------------------------------------------------\u001b[0m",
      "\u001b[0;31mAttributeError\u001b[0m                            Traceback (most recent call last)",
      "\u001b[0;32m<ipython-input-5-8956d28c350a>\u001b[0m in \u001b[0;36m<module>\u001b[0;34m\u001b[0m\n\u001b[1;32m      8\u001b[0m \u001b[0;31m#print(dir(example))\u001b[0m\u001b[0;34m\u001b[0m\u001b[0;34m\u001b[0m\u001b[0;34m\u001b[0m\u001b[0m\n\u001b[1;32m      9\u001b[0m \u001b[0mprint\u001b[0m\u001b[0;34m(\u001b[0m\u001b[0mexample\u001b[0m\u001b[0;34m.\u001b[0m\u001b[0m_PrivacyExample__private_by_name_mangling\u001b[0m\u001b[0;34m)\u001b[0m\u001b[0;34m\u001b[0m\u001b[0;34m\u001b[0m\u001b[0m\n\u001b[0;32m---> 10\u001b[0;31m \u001b[0mprint\u001b[0m\u001b[0;34m(\u001b[0m\u001b[0mexample\u001b[0m\u001b[0;34m.\u001b[0m\u001b[0m__private_by_name_mangling\u001b[0m\u001b[0;34m)\u001b[0m\u001b[0;34m\u001b[0m\u001b[0;34m\u001b[0m\u001b[0m\n\u001b[0m",
      "\u001b[0;31mAttributeError\u001b[0m: 'PrivacyExample' object has no attribute '__private_by_name_mangling'"
     ]
    }
   ],
   "source": [
    "class PrivacyExample:\n",
    "    def __init__(self):\n",
    "        self.public = 4\n",
    "        self._private_by_convention = 5\n",
    "        self.__private_by_name_mangling = 6\n",
    "    \n",
    "example = PrivacyExample()\n",
    "#print(dir(example))\n",
    "print(example._PrivacyExample__private_by_name_mangling)\n",
    "print(example.__private_by_name_mangling)"
   ]
  },
  {
   "cell_type": "code",
   "execution_count": 66,
   "metadata": {},
   "outputs": [
    {
     "output_type": "stream",
     "name": "stdout",
     "text": [
      "True\nTrue\nTrue\nFalse\nClass var for instance    1: 420\nClass var for instance    2: 420\nChanging class level variable globally\nClass var for instance    1: 500\nClass var for instance    2: 500\nChanging class level variable only for instance 1\nClass var for instance    1: 0\nClass var for instance    2: 500\nChanging class level variable globally\nInstance var for instance 1: 4\nInstance var for instance 2: 4\nTrue\n{'instance_level_var': 4, 'list_of_things': [4, 2, 3, 5, 61, 7, 9], 'class_level_var': 0}\n"
     ]
    }
   ],
   "source": [
    "class MyClass():\n",
    "    def __init__(self, a_constructor_var=4):\n",
    "        self.instance_level_var = a_constructor_var\n",
    "        self.list_of_things = [4,2,3,5,61,7,9]\n",
    "\n",
    "    class_level_var = 420\n",
    "    _semi_private_class_level_var = [4,4,4]\n",
    "    __private_class_level_var = \"asdf\"\n",
    "\n",
    "    def my_func(self):\n",
    "        print(\"This is a message from a MyClass instance.\")\n",
    "    \n",
    "    #Private method\n",
    "    def __my_func(self):\n",
    "        print(\"This method should only be called within MyClass\")\n",
    "        \n",
    "    @staticmethod\n",
    "    def my_static_func():\n",
    "        print(\"I do not belong to a MyClass instance\")\n",
    "\n",
    "    # Providing a custom python magic method \n",
    "    # for indexing an instance of MyClass directly\n",
    "    def __getitem__(self, key):\n",
    "        return self.list_of_things[key] \n",
    "\n",
    "    def __str__(self):\n",
    "        return  str(vars(self))\n",
    "\n",
    "instance_1 = MyClass()\n",
    "print(hasattr(instance_1,\"class_level_var\"))\n",
    "print(hasattr(MyClass,\"class_level_var\"))\n",
    "print(hasattr(instance_1,\"instance_level_var\"))\n",
    "print(hasattr(MyClass,\"instance_level_var\"))\n",
    "\n",
    "instance_2 = MyClass()\n",
    "print(\"Class var for instance    1:\",instance_1.class_level_var)\n",
    "print(\"Class var for instance    2:\",instance_2.class_level_var)\n",
    "print(\"Changing class level variable globally\")\n",
    "MyClass.class_level_var = 500\n",
    "print(\"Class var for instance    1:\",instance_1.class_level_var)\n",
    "print(\"Class var for instance    2:\",instance_2.class_level_var)\n",
    "print(\"Changing class level variable only for instance 1\")\n",
    "instance_1.class_level_var = 0\n",
    "print(\"Class var for instance    1:\",instance_1.class_level_var)\n",
    "print(\"Class var for instance    2:\",instance_2.class_level_var)\n",
    "print(\"Changing class level variable globally\")\n",
    "MyClass.class_level_var = 1234\n",
    "print(\"Instance var for instance 1:\", instance_1.instance_level_var)\n",
    "print(\"Instance var for instance 2:\", instance_2.instance_level_var)\n",
    "\n",
    "\n",
    "print(instance_1)"
   ]
  },
  {
   "cell_type": "code",
   "execution_count": 67,
   "metadata": {},
   "outputs": [
    {
     "output_type": "stream",
     "name": "stdout",
     "text": [
      "Printing string version of instance\nTrue\nWas the string conversion successful? True\n{'instance_level_var': 4, 'list_of_things': [4, 2, 3, 5, 61, 7, 9]}\n"
     ]
    }
   ],
   "source": [
    "instance = MyClass()\n",
    "print(\"Printing string version of instance\")\n",
    "instance_as_string = str(instance)\n",
    "print(\"Was the string conversion successful?\",isinstance(instance_as_string,str))\n",
    "print(instance_as_string)"
   ]
  },
  {
   "cell_type": "code",
   "execution_count": null,
   "metadata": {},
   "outputs": [],
   "source": []
  }
 ]
}