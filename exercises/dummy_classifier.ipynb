{
 "cells": [
  {
   "cell_type": "markdown",
   "metadata": {},
   "source": [
    "# ITMAL Exercise\n",
    "\n",
    "## Implementing a dummy binary-classifier with fit-predict interface\n",
    "\n",
    "We begin with the MNIST data-set and will reuse the data loader from Scikit-learn. Next we create a dummy classifier, and compare the results of the SGD and dummy classifiers using the MNIST data...\n",
    "\n",
    "#### Qa  Load and display the MNIST data\n",
    "\n",
    "There is a `sklearn.datasets.fetch_openml` dataloader interface in Scikit-learn. You can load MNIST data like \n",
    "\n",
    "```python\n",
    "from sklearn.datasets import fetch_openml\n",
    "# Load data from https://www.openml.org/d/554\n",
    "X, y = fetch_openml('mnist_784',??) # needs to return X, y, replace '??' with suitable parameters! \n",
    "# Convert to [0;1] via scaling (not always needed)\n",
    "#X = X / 255.\n",
    "```\n",
    "\n",
    "but you need to set parameters like `return_X_y` and `cache` if the default values are not suitable! \n",
    "\n",
    "Check out the documentation for the `fetch_openml` MNIST loader, try it out by loading a (X,y) MNIST data set, and plot a single digit via the `MNIST_PlotDigit` function here (input data is a 28x28 NMIST subimage)\n",
    "\n",
    "```python\n",
    "%matplotlib inline\n",
    "def MNIST_PlotDigit(data):\n",
    "    import matplotlib\n",
    "    import matplotlib.pyplot as plt\n",
    "    image = data.reshape(28, 28)\n",
    "    plt.imshow(image, cmap = matplotlib.cm.binary, interpolation=\"nearest\")\n",
    "    plt.axis(\"off\")\n",
    "```\n",
    "\n",
    "Finally, put the MNIST loader into a single function called `MNIST_GetDataSet()` so you can resuse it later."
   ]
  },
  {
   "cell_type": "code",
   "execution_count": 5,
   "metadata": {},
   "outputs": [
    {
     "output_type": "stream",
     "name": "stdout",
     "text": [
      "['DESCR', 'categories', 'data', 'details', 'feature_names', 'frame', 'target', 'target_names', 'url']\n"
     ]
    }
   ],
   "source": [
    "# TODO: add your code here..\n",
    "#assert False, \"TODO: solve Qa, and remove me..\"\n",
    "\n",
    "from sklearn.datasets import fetch_openml\n",
    "\n",
    "mnist_1 = fetch_openml(\"mnist_784\",as_frame=True)\n",
    "print(dir(mnist_1))\n"
   ]
  },
  {
   "cell_type": "code",
   "execution_count": 6,
   "metadata": {},
   "outputs": [
    {
     "output_type": "stream",
     "name": "stdout",
     "text": [
      "<class 'sklearn.utils.Bunch'>\n<class 'pandas.core.frame.DataFrame'>\n"
     ]
    }
   ],
   "source": [
    "print(type(mnist_1))\n",
    "print(type(mnist_1.frame))"
   ]
  },
  {
   "cell_type": "code",
   "execution_count": 7,
   "metadata": {},
   "outputs": [
    {
     "output_type": "stream",
     "name": "stdout",
     "text": [
      "<class 'sklearn.utils.Bunch'>\n<class 'NoneType'>\n"
     ]
    }
   ],
   "source": [
    "from sklearn.datasets import fetch_openml\n",
    "\n",
    "mnist_2 = fetch_openml(\"mnist_784\",as_frame=False)\n",
    "print(type(mnist_2))\n",
    "print(type(mnist_2.frame))"
   ]
  },
  {
   "cell_type": "code",
   "execution_count": 8,
   "metadata": {},
   "outputs": [
    {
     "output_type": "stream",
     "name": "stdout",
     "text": [
      "['__add__', '__class__', '__contains__', '__delattr__', '__dir__', '__doc__', '__eq__', '__format__', '__ge__', '__getattribute__', '__getitem__', '__getnewargs__', '__gt__', '__hash__', '__init__', '__init_subclass__', '__iter__', '__le__', '__len__', '__lt__', '__mul__', '__ne__', '__new__', '__reduce__', '__reduce_ex__', '__repr__', '__rmul__', '__setattr__', '__sizeof__', '__str__', '__subclasshook__', 'count', 'index']\n"
     ]
    }
   ],
   "source": [
    "mnist_3 = fetch_openml(\"mnist_784\", return_X_y=True)\n",
    "print(dir(mnist_3))"
   ]
  },
  {
   "cell_type": "code",
   "execution_count": 9,
   "metadata": {},
   "outputs": [
    {
     "output_type": "stream",
     "name": "stdout",
     "text": [
      "<class 'tuple'>\n2\n70000\n70000\n"
     ]
    }
   ],
   "source": [
    "import numpy as np\n",
    "\n",
    "print(type(mnist_3))\n",
    "print(len(mnist_3))\n",
    "print(len(mnist_3[0]))\n",
    "print(len(mnist_3[1]))"
   ]
  },
  {
   "cell_type": "code",
   "execution_count": 10,
   "metadata": {},
   "outputs": [
    {
     "output_type": "stream",
     "name": "stdout",
     "text": [
      "5\n"
     ]
    },
    {
     "output_type": "display_data",
     "data": {
      "text/plain": "<Figure size 432x288 with 1 Axes>",
      "image/svg+xml": "<?xml version=\"1.0\" encoding=\"utf-8\" standalone=\"no\"?>\n<!DOCTYPE svg PUBLIC \"-//W3C//DTD SVG 1.1//EN\"\n  \"http://www.w3.org/Graphics/SVG/1.1/DTD/svg11.dtd\">\n<!-- Created with matplotlib (https://matplotlib.org/) -->\n<svg height=\"231.84pt\" version=\"1.1\" viewBox=\"0 0 231.84 231.84\" width=\"231.84pt\" xmlns=\"http://www.w3.org/2000/svg\" xmlns:xlink=\"http://www.w3.org/1999/xlink\">\n <metadata>\n  <rdf:RDF xmlns:cc=\"http://creativecommons.org/ns#\" xmlns:dc=\"http://purl.org/dc/elements/1.1/\" xmlns:rdf=\"http://www.w3.org/1999/02/22-rdf-syntax-ns#\">\n   <cc:Work>\n    <dc:type rdf:resource=\"http://purl.org/dc/dcmitype/StillImage\"/>\n    <dc:date>2021-02-26T16:54:36.909951</dc:date>\n    <dc:format>image/svg+xml</dc:format>\n    <dc:creator>\n     <cc:Agent>\n      <dc:title>Matplotlib v3.3.2, https://matplotlib.org/</dc:title>\n     </cc:Agent>\n    </dc:creator>\n   </cc:Work>\n  </rdf:RDF>\n </metadata>\n <defs>\n  <style type=\"text/css\">*{stroke-linecap:butt;stroke-linejoin:round;}</style>\n </defs>\n <g id=\"figure_1\">\n  <g id=\"patch_1\">\n   <path d=\"M 0 231.84 \nL 231.84 231.84 \nL 231.84 0 \nL 0 0 \nz\n\" style=\"fill:none;\"/>\n  </g>\n  <g id=\"axes_1\">\n   <g clip-path=\"url(#pd15ef7203d)\">\n    <image height=\"218\" id=\"image97dc7bc534\" transform=\"scale(1 -1)translate(0 -218)\" width=\"218\" x=\"7.2\" xlink:href=\"data:image/png;base64,\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\" y=\"-6.64\"/>\n   </g>\n  </g>\n </g>\n <defs>\n  <clipPath id=\"pd15ef7203d\">\n   <rect height=\"217.44\" width=\"217.44\" x=\"7.2\" y=\"7.2\"/>\n  </clipPath>\n </defs>\n</svg>\n",
      "image/png": "[encoded data removed]"
     },
     "metadata": {
      "needs_background": "light"
     }
    }
   ],
   "source": [
    "\n",
    "\n",
    "%matplotlib inline\n",
    "def MNIST_PlotDigit(data):\n",
    "    import matplotlib\n",
    "    import matplotlib.pyplot as plt\n",
    "    image = data.reshape(28, 28)\n",
    "    plt.imshow(image, cmap = matplotlib.cm.binary, interpolation=\"nearest\")\n",
    "    plt.axis(\"off\")\n",
    "\n",
    "MNIST_PlotDigit(mnist_3[0][0])\n",
    "print(mnist_3[1][0])"
   ]
  },
  {
   "cell_type": "code",
   "execution_count": 11,
   "metadata": {},
   "outputs": [],
   "source": [
    "def MNIST_GetDataSet():\n",
    "    return fetch_openml(\"mnist_784\", return_X_y=True)\n"
   ]
  },
  {
   "cell_type": "code",
   "execution_count": null,
   "metadata": {},
   "outputs": [],
   "source": []
  },
  {
   "source": [
    "#### Qb  Add a Stochastic Gradient Decent [SGD] Classifier\n",
    "\n",
    "Create a train-test data-set for MNIST and then add the `SGDClassifier` as done in [HOML], p.88.\n",
    "\n",
    "Split your data and run the fit-predict for the classifier using the MNIST data.(We will be looking at cross-validation instead of the simple fit-predict in a later exercise.)\n",
    "\n",
    "Notice that you have to reshape the MNIST X-data to be able to use the classifier. It may be a 3D array, consisting of 70000 (28 x 28) images, or just a 2D array consisting of 70000 elements of size 784.\n",
    "\n",
    "A simple `reshape()` could fix this on-the-fly:\n",
    "```python\n",
    "X, y = MNIST_GetDataSet()\n",
    "\n",
    "print(f\"X.shape={X.shape}\") # print X.shape= (70000, 28, 28)\n",
    "if X.ndim==3:\n",
    "    print(\"reshaping X..\")\n",
    "    assert y.ndim==1\n",
    "    X = X.reshape((X.shape[0],X.shape[1]*X.shape[2]))\n",
    "assert X.ndim==2\n",
    "print(f\"X.shape={X.shape}\") # X.shape= (70000, 784)\n",
    "```\n",
    "\n",
    "Remember to use the category-5 y inputs\n",
    "\n",
    "```python\n",
    "y_train_5 = (y_train == '5')    \n",
    "y_test_5  = (y_test == '5')\n",
    "```\n",
    "instead of the `y`'s you are getting out of the dataloader. In effect, we have now created a binary-classifier, that enable us to classify a particular data sample, $\\mathbf{x}(i)$ (that is a 28x28 image), as being a-class-5 or not-a-class-5. \n",
    "\n",
    "Test your model on using the test data, and try to plot numbers that have been categorized correctly. Then also find and plots some misclassified numbers."
   ],
   "cell_type": "markdown",
   "metadata": {}
  },
  {
   "cell_type": "code",
   "execution_count": 12,
   "metadata": {},
   "outputs": [],
   "source": [
    "\n",
    "from sklearn.model_selection import train_test_split\n",
    "X, y = MNIST_GetDataSet()\n",
    "\n"
   ]
  },
  {
   "cell_type": "code",
   "execution_count": 13,
   "metadata": {},
   "outputs": [
    {
     "output_type": "stream",
     "name": "stdout",
     "text": [
      "X.shape=(70000, 784)\n"
     ]
    }
   ],
   "source": [
    "print(f\"X.shape={X.shape}\") # print X.shape= (70000, 28, 28)\n",
    "#if X.ndim==3:\n",
    "#    print(\"reshaping X..\")\n",
    "#    assert y.ndim==1\n",
    "#    X = X.reshape((X.shape[0],X.shape[1]*X.shape[2]))\n",
    "#assert X.ndim==2\n",
    "#print(f\"X.shape={X.shape}\") # X.shape= (70000, 784)\n",
    "\n"
   ]
  },
  {
   "cell_type": "code",
   "execution_count": 14,
   "metadata": {},
   "outputs": [],
   "source": [
    "\n",
    "y_is_it_a_five = y == '5'\n",
    "X_train, X_test, y_train, y_test = train_test_split(X, y_is_it_a_five)\n",
    "\n"
   ]
  },
  {
   "cell_type": "code",
   "execution_count": 15,
   "metadata": {},
   "outputs": [
    {
     "output_type": "execute_result",
     "data": {
      "text/plain": [
       "SGDClassifier(random_state=27)"
      ]
     },
     "metadata": {},
     "execution_count": 15
    }
   ],
   "source": [
    "from sklearn.linear_model import SGDClassifier\n",
    "sgd_classifier = SGDClassifier(random_state=27)\n",
    "sgd_classifier.fit(X_train, y_train)\n"
   ]
  },
  {
   "cell_type": "code",
   "execution_count": 16,
   "metadata": {},
   "outputs": [
    {
     "output_type": "display_data",
     "data": {
      "text/plain": "<Figure size 432x288 with 1 Axes>",
      "image/svg+xml": "<?xml version=\"1.0\" encoding=\"utf-8\" standalone=\"no\"?>\n<!DOCTYPE svg PUBLIC \"-//W3C//DTD SVG 1.1//EN\"\n  \"http://www.w3.org/Graphics/SVG/1.1/DTD/svg11.dtd\">\n<!-- Created with matplotlib (https://matplotlib.org/) -->\n<svg height=\"231.84pt\" version=\"1.1\" viewBox=\"0 0 231.84 231.84\" width=\"231.84pt\" xmlns=\"http://www.w3.org/2000/svg\" xmlns:xlink=\"http://www.w3.org/1999/xlink\">\n <metadata>\n  <rdf:RDF xmlns:cc=\"http://creativecommons.org/ns#\" xmlns:dc=\"http://purl.org/dc/elements/1.1/\" xmlns:rdf=\"http://www.w3.org/1999/02/22-rdf-syntax-ns#\">\n   <cc:Work>\n    <dc:type rdf:resource=\"http://purl.org/dc/dcmitype/StillImage\"/>\n    <dc:date>2021-02-26T16:55:18.129717</dc:date>\n    <dc:format>image/svg+xml</dc:format>\n    <dc:creator>\n     <cc:Agent>\n      <dc:title>Matplotlib v3.3.2, https://matplotlib.org/</dc:title>\n     </cc:Agent>\n    </dc:creator>\n   </cc:Work>\n  </rdf:RDF>\n </metadata>\n <defs>\n  <style type=\"text/css\">*{stroke-linecap:butt;stroke-linejoin:round;}</style>\n </defs>\n <g id=\"figure_1\">\n  <g id=\"patch_1\">\n   <path d=\"M 0 231.84 \nL 231.84 231.84 \nL 231.84 0 \nL 0 0 \nz\n\" style=\"fill:none;\"/>\n  </g>\n  <g id=\"axes_1\">\n   <g clip-path=\"url(#pc1181e4c1e)\">\n    <image height=\"218\" id=\"image75fb0f8755\" transform=\"scale(1 -1)translate(0 -218)\" width=\"218\" x=\"7.2\" xlink:href=\"data:image/png;base64,\niVBORw0KGgoAAAANSUhEUgAAANoAAADaCAYAAADAHVzbAAAFnklEQVR4nO3dz4tNfxzH8e98fScLsSBSs2FnJSlKLCxnMRZ2I9kqs7MxS4qQhYUFsRIbG+zuTLKkyZJsxoKUppQfJdMwyv3+Ad/O+37dmfuae+88HttXJ6d49imnc+5Iu91u/wX01N9rfQOwHggNAoQGAUKDAKFBgNAgQGgQIDQIEBoECA0ChAYBQoMAoUGA0CBAaBAgNAgQGgQIDQKEBgFCgwChQYDQIEBoECA0CBAaBAgNAoQGAUKDAKFBgNAgQGgQIDQIEBoECA0ChAYBQoMAoUGA0CDgn7W+Af7r3bt35X7nzp1yf/ToUbm/efPmj+/p/xofHy/3mzdvNm67d+9e7dvpG040CBAaBAgNAoQGAUKDAKFBgNAgYKTdbrfX+iaG0dLSUuN2+vTp8tpWq1Xu3759K/fR0dFyX4lO/1x+/PhR7qdOnWrc7t2719U9DQInGgQIDQKEBgFCgwChQYDQIEBoEOB9tC69fPmy3A8fPty4bd68ubx2amqq3I8dO1buBw8eLPeVWFhYKPexsbFyn5ubW83bGRhONAgQGgQIDQKEBgFCgwChQcC6/e/95eXlcu/0SbZDhw6V+/T0dON25syZ8todO3aU+1pa6ass1Wsyw8yJBgFCgwChQYDQIEBoECA0CBAaBKzbz83dunWr3M+fP1/ut2/fLveJiYnGrZefg1upDx8+lPvevXvLfePGjeU+Pz/fuG3ZsqW8dpA50SBAaBAgNAgQGgQIDQKEBgFCg4ChfR/tyZMn5X758uVy7/Sc7Pjx4398T/2i+mmlycnJ8trFxcVy7/S+2jA/K6s40SBAaBAgNAgQGgQIDQKEBgFCg4ChfY72+vXrcn/48GG59/Knj3rt06dP5X79+vXG7fnz5+W1Fy9eLPfqPbz1zIkGAUKDAKFBgNAgQGgQIDQIGOjPzS0sLDRub9++La89cuTIat9OTKe/sgsXLpT7pUuXGrejR4+W1z5+/Ljc1+trMJ040SBAaBAgNAgQGgQIDQKEBgFCg4CBfo42rD5//lzu165dW9FePWfr9HNVdMeJBgFCgwChQYDQIEBoECA0CBAaBHiO1odOnDhR7g8ePCj3q1evlvu5c+cat5GRkfJauuNEgwChQYDQIEBoECA0CBAaBAgNAob2Z5vW2tevXxu3kydPltfOzs6We6d3xqanp8udPCcaBAgNAoQGAUKDAKFBgNAgQGgQ4Dlaj9y4caNxm5mZKa89e/ZsuXf6/TP6jxMNAoQGAUKDAKFBgNAgQGgQ4HNzXZqfny/3ffv2NW579uwpr3369Gm5b9u2rdzpP040CBAaBAgNAoQGAUKDAKFBgNAgwGsyXWq1WuW+YcOGxu3+/fvltZ6TDR8nGgQIDQKEBgFCgwChQYDQIEBoEOA5WpdGR0fLfXl5uXFbWlpa7duhzznRIEBoECA0CBAaBAgNAoQGAUKDAM/RuvTq1aty//XrV+PW6ZuQBw4c6Oqe6F9ONAgQGgQIDQKEBgFCgwChQYDQIMDvo3Xp58+f5T45Odm4zc7OlteOj4+X+5UrV8q90++vkedEgwChQYDQIEBoECA0CBAaBPjv/R5ZXFxs3F68eFFeOzU1Ve67du0q906PD8hzokGA0CBAaBAgNAgQGgQIDQKEBgE+N9cjmzZtaty+f/9eXrt///5yf/bsWbl3eo1mYmKi3Ctbt24t9y9fvpT7zp07G7ft27d3dU+DwIkGAUKDAKFBgNAgQGgQIDQIEBoEeB9tAH38+LHc7969W+7v37/v+s9utVrl/vv373IfGxtr3Obm5rq6p0HgRIMAoUGA0CBAaBAgNAgQGgQIDQI8R4MAJxoECA0ChAYBQoMAoUGA0CBAaBAgNAgQGgQIDQKEBgFCgwChQYDQIEBoECA0CBAaBAgNAoQGAUKDAKFBgNAg4F8Au//lv/a/qgAAAABJRU5ErkJggg==\" y=\"-6.64\"/>\n   </g>\n  </g>\n </g>\n <defs>\n  <clipPath id=\"pc1181e4c1e\">\n   <rect height=\"217.44\" width=\"217.44\" x=\"7.2\" y=\"7.2\"/>\n  </clipPath>\n </defs>\n</svg>\n",
      "image/png": "[encoded data removed]"
     },
     "metadata": {
      "needs_background": "light"
     }
    }
   ],
   "source": [
    "y_pred = sgd_classifier.predict(X_test)\n",
    "error_indexes = [i for i, (y_p, y_t) in enumerate(zip(y_pred,y_test)) if y_p != y_t]\n",
    "MNIST_PlotDigit(X_test[error_indexes[0]])\n"
   ]
  },
  {
   "cell_type": "code",
   "execution_count": 17,
   "metadata": {},
   "outputs": [
    {
     "output_type": "display_data",
     "data": {
      "text/plain": "<Figure size 432x288 with 1 Axes>",
      "image/svg+xml": "<?xml version=\"1.0\" encoding=\"utf-8\" standalone=\"no\"?>\n<!DOCTYPE svg PUBLIC \"-//W3C//DTD SVG 1.1//EN\"\n  \"http://www.w3.org/Graphics/SVG/1.1/DTD/svg11.dtd\">\n<!-- Created with matplotlib (https://matplotlib.org/) -->\n<svg height=\"231.84pt\" version=\"1.1\" viewBox=\"0 0 231.84 231.84\" width=\"231.84pt\" xmlns=\"http://www.w3.org/2000/svg\" xmlns:xlink=\"http://www.w3.org/1999/xlink\">\n <metadata>\n  <rdf:RDF xmlns:cc=\"http://creativecommons.org/ns#\" xmlns:dc=\"http://purl.org/dc/elements/1.1/\" xmlns:rdf=\"http://www.w3.org/1999/02/22-rdf-syntax-ns#\">\n   <cc:Work>\n    <dc:type rdf:resource=\"http://purl.org/dc/dcmitype/StillImage\"/>\n    <dc:date>2021-02-26T16:55:18.320517</dc:date>\n    <dc:format>image/svg+xml</dc:format>\n    <dc:creator>\n     <cc:Agent>\n      <dc:title>Matplotlib v3.3.2, https://matplotlib.org/</dc:title>\n     </cc:Agent>\n    </dc:creator>\n   </cc:Work>\n  </rdf:RDF>\n </metadata>\n <defs>\n  <style type=\"text/css\">*{stroke-linecap:butt;stroke-linejoin:round;}</style>\n </defs>\n <g id=\"figure_1\">\n  <g id=\"patch_1\">\n   <path d=\"M 0 231.84 \nL 231.84 231.84 \nL 231.84 0 \nL 0 0 \nz\n\" style=\"fill:none;\"/>\n  </g>\n  <g id=\"axes_1\">\n   <g clip-path=\"url(#p48ce75ffc5)\">\n    <image height=\"218\" id=\"image5ebeb87762\" transform=\"scale(1 -1)translate(0 -218)\" width=\"218\" x=\"7.2\" xlink:href=\"data:image/png;base64,\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\" y=\"-6.64\"/>\n   </g>\n  </g>\n </g>\n <defs>\n  <clipPath id=\"p48ce75ffc5\">\n   <rect height=\"217.44\" width=\"217.44\" x=\"7.2\" y=\"7.2\"/>\n  </clipPath>\n </defs>\n</svg>\n",
      "image/png": "[encoded data removed]"
     },
     "metadata": {
      "needs_background": "light"
     }
    }
   ],
   "source": [
    "MNIST_PlotDigit(X_test[error_indexes[-1]])"
   ]
  },
  {
   "cell_type": "code",
   "execution_count": 18,
   "metadata": {},
   "outputs": [
    {
     "output_type": "display_data",
     "data": {
      "text/plain": "<Figure size 432x288 with 1 Axes>",
      "image/svg+xml": "<?xml version=\"1.0\" encoding=\"utf-8\" standalone=\"no\"?>\n<!DOCTYPE svg PUBLIC \"-//W3C//DTD SVG 1.1//EN\"\n  \"http://www.w3.org/Graphics/SVG/1.1/DTD/svg11.dtd\">\n<!-- Created with matplotlib (https://matplotlib.org/) -->\n<svg height=\"231.84pt\" version=\"1.1\" viewBox=\"0 0 231.84 231.84\" width=\"231.84pt\" xmlns=\"http://www.w3.org/2000/svg\" xmlns:xlink=\"http://www.w3.org/1999/xlink\">\n <metadata>\n  <rdf:RDF xmlns:cc=\"http://creativecommons.org/ns#\" xmlns:dc=\"http://purl.org/dc/elements/1.1/\" xmlns:rdf=\"http://www.w3.org/1999/02/22-rdf-syntax-ns#\">\n   <cc:Work>\n    <dc:type rdf:resource=\"http://purl.org/dc/dcmitype/StillImage\"/>\n    <dc:date>2021-02-26T16:55:18.502502</dc:date>\n    <dc:format>image/svg+xml</dc:format>\n    <dc:creator>\n     <cc:Agent>\n      <dc:title>Matplotlib v3.3.2, https://matplotlib.org/</dc:title>\n     </cc:Agent>\n    </dc:creator>\n   </cc:Work>\n  </rdf:RDF>\n </metadata>\n <defs>\n  <style type=\"text/css\">*{stroke-linecap:butt;stroke-linejoin:round;}</style>\n </defs>\n <g id=\"figure_1\">\n  <g id=\"patch_1\">\n   <path d=\"M 0 231.84 \nL 231.84 231.84 \nL 231.84 0 \nL 0 0 \nz\n\" style=\"fill:none;\"/>\n  </g>\n  <g id=\"axes_1\">\n   <g clip-path=\"url(#p85c9920925)\">\n    <image height=\"218\" id=\"image00feadc954\" transform=\"scale(1 -1)translate(0 -218)\" width=\"218\" x=\"7.2\" xlink:href=\"data:image/png;base64,\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\" y=\"-6.64\"/>\n   </g>\n  </g>\n </g>\n <defs>\n  <clipPath id=\"p85c9920925\">\n   <rect height=\"217.44\" width=\"217.44\" x=\"7.2\" y=\"7.2\"/>\n  </clipPath>\n </defs>\n</svg>\n",
      "image/png": "[encoded data removed]"
     },
     "metadata": {
      "needs_background": "light"
     }
    }
   ],
   "source": [
    "MNIST_PlotDigit(X_test[error_indexes[200]])"
   ]
  },
  {
   "cell_type": "code",
   "execution_count": 19,
   "metadata": {},
   "outputs": [
    {
     "output_type": "stream",
     "name": "stdout",
     "text": [
      "0.9561142857142857\n"
     ]
    }
   ],
   "source": [
    "print(sgd_classifier.score(X_test,y_test))"
   ]
  },
  {
   "cell_type": "markdown",
   "metadata": {},
   "source": [
    "#### Qc Implement a dummy binary classifier\n",
    "\n",
    "Now we will try to create a Scikit-learn compatible estimator implemented via a python class. Follow the code found in [HOML], p.90, but name you estimator `DummyClassifier` instead of `Never5Classifyer`.\n",
    "\n",
    "Here our Python class knowledge comes into play. The estimator class hierarchy looks like\n",
    "\n",
    "<img src=\"https://blackboard.au.dk/bbcswebdav/courses/BB-Cou-UUVA-94506/Fildeling/L02/Figs/class_base_estimator.png\" alt=\"WARNING: you need to be logged into Blackboard to view images\" style=\"width:500px\">\n",
    "\n",
    "All Scikit-learn classifiers inherit from `BaseEstimator` (and possibly also `ClassifierMixin`), and they must have a `fit-predict` function pair (strangely not in the base class!) and you can actually find the `sklearn.base.BaseEstimator` and `sklearn.base.ClassifierMixin` python source code somewhere in you anaconda install dir, if you should have the nerves to go to such interesting details.\n",
    "\n",
    "But surprisingly you may just want to implement a class that contains the `fit-predict` functions, ___without inheriting___ from the `BaseEstimator`, things still work due to the pythonic 'duck-typing': you just need to have the class implement the needed interfaces, obviously `fit()` and `predict()` but also the more obscure `get_params()` etc....then the class 'looks like' a `BaseEstimator`...and if it looks like an estimator, it _is_ an estimator (aka. duck typing).\n",
    "\n",
    "Templates in C++ also allow the language to use compile-time duck typing!\n",
    "\n",
    "> https://en.wikipedia.org/wiki/Duck_typing\n",
    "\n",
    "Call the fit-predict on a newly instantiated `DummyClassifier` object, and find a way to extract the accuracy `score` from the test data. You may implement an accuracy function yourself or just use the `sklearn.metrics.accuracy_score` function. \n",
    "\n",
    "Finally, compare the accuracy score from your `DummyClassifier` with the scores found in [HOML] \"Measuring Accuracy Using Cross-Validation\", p.89. Are they comparable? "
   ]
  },
  {
   "cell_type": "code",
   "execution_count": 27,
   "metadata": {},
   "outputs": [],
   "source": [
    "\n",
    "\n",
    "class DummyClassifier:\n",
    "    def fit(self, X_train, y_train):\n",
    "        pass\n",
    "    def predict(self, X_test):\n",
    "        return np.zeros((len(X_test), 1), dtype=bool)\n",
    "\n"
   ]
  },
  {
   "cell_type": "code",
   "execution_count": 28,
   "metadata": {},
   "outputs": [
    {
     "output_type": "stream",
     "name": "stdout",
     "text": [
      "17500\n17500\n17500\n0.9098285714285714\n"
     ]
    }
   ],
   "source": [
    "from sklearn.metrics import accuracy_score\n",
    "\n",
    "dummy_classifier = DummyClassifier()\n",
    "dummy_classifier.fit(X_train, y_train)\n",
    "y_pred_dummy = dummy_classifier.predict(X_test)\n",
    "print(accuracy_score(y_test, y_pred_dummy))\n"
   ]
  },
  {
   "cell_type": "markdown",
   "metadata": {},
   "source": [
    "### Qd Conclusion\n",
    "\n",
    "Now, conclude on all the exercise above. \n",
    "\n",
    "Write a short textual conclusion (max. 10- to 20-lines) that extract the _essence_ of the exercises: why did you think it was important to look at these particular ML concepts, and what was our overall learning outcome of the exercises (in broad terms)."
   ]
  },
  {
   "cell_type": "code",
   "execution_count": null,
   "metadata": {},
   "outputs": [],
   "source": [
    "# TODO: Qd concluding remarks in text.."
   ]
  },
  {
   "cell_type": "markdown",
   "metadata": {},
   "source": [
    "REVISIONS||\n",
    "---------||\n",
    "2018-1219| CEF, initial.                  \n",
    "2018-0206| CEF, updated and spell checked. \n",
    "2018-0208| CEF, minor text update.\n",
    "2018-0305| CEF, updated with SHN comments.\n",
    "2019-0902| CEF, updated for ITMAL v2.\n",
    "2019-0904| CEF, updated and added conclusion Q.\n",
    "2020-0125| CEF, F20 ITMAL update.\n",
    "2020-0204| CEF, updated page numbers to HOMLv2.\n",
    "2020-0903| CEF, E20 ITMAL update, udpated figs paths.\n",
    "2020-0906| CEF, added alt text.\n",
    "2020-0918| CEF, added binary-classifier text to Qb to emphasise 5/non-5 classification.\n",
    "2021-0112| CEF, F21 ITMAL update, moved revision tabel.\n"
   ]
  }
 ],
 "metadata": {
  "kernelspec": {
   "display_name": "Python 3",
   "language": "python",
   "name": "python3"
  },
  "language_info": {
   "codemirror_mode": {
    "name": "ipython",
    "version": 3
   },
   "file_extension": ".py",
   "mimetype": "text/x-python",
   "name": "python",
   "nbconvert_exporter": "python",
   "pygments_lexer": "ipython3",
   "version": "3.8.5-final"
  },
  "varInspector": {
   "cols": {
    "lenName": 16,
    "lenType": 16,
    "lenVar": 40
   },
   "kernels_config": {
    "python": {
     "delete_cmd_postfix": "",
     "delete_cmd_prefix": "del ",
     "library": "var_list.py",
     "varRefreshCmd": "print(var_dic_list())"
    },
    "r": {
     "delete_cmd_postfix": ") ",
     "delete_cmd_prefix": "rm(",
     "library": "var_list.r",
     "varRefreshCmd": "cat(var_dic_list()) "
    }
   },
   "position": {
    "height": "144.517px",
    "left": "1230px",
    "right": "20px",
    "top": "119px",
    "width": "350px"
   },
   "types_to_exclude": [
    "module",
    "function",
    "builtin_function_or_method",
    "instance",
    "_Feature"
   ],
   "window_display": true
  }
 },
 "nbformat": 4,
 "nbformat_minor": 2
}