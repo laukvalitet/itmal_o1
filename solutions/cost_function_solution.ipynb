{
 "metadata": {
  "language_info": {
   "codemirror_mode": {
    "name": "ipython",
    "version": 3
   },
   "file_extension": ".py",
   "mimetype": "text/x-python",
   "name": "python",
   "nbconvert_exporter": "python",
   "pygments_lexer": "ipython3",
   "version": "3.8.5"
  },
  "orig_nbformat": 2,
  "kernelspec": {
   "name": "python3",
   "display_name": "Python 3",
   "language": "python"
  }
 },
 "nbformat": 4,
 "nbformat_minor": 2,
 "cells": [
  {
   "source": [
    "Defs\n",
    "$$\n",
    "    \\newcommand\\rem[1]{}\n",
    "    \\rem{ITMAL: CEF def and LaTeX commands, remember: no newlines in defs}\n",
    "    \\newcommand\\eq[2]{#1 &=& #2\\\\}\n",
    "    \\newcommand\\ar[2]{\\begin{array}{#1}#2\\end{array}}\n",
    "    \\newcommand\\ac[2]{\\left[\\ar{#1}{#2}\\right]}\n",
    "    \\newcommand\\st[1]{_{\\scriptsize #1}}\n",
    "    \\newcommand\\norm[1]{{\\cal L}_{#1}}\n",
    "    \\newcommand\\obs[2]{#1_{\\mbox{\\scriptsize obs}}^{\\left(#2\\right)}}\n",
    "    \\newcommand\\diff[1]{\\mbox{d}#1}\n",
    "    \\newcommand\\pown[1]{^{(#1)}}\n",
    "    \\def\\pownn{\\pown{n}}\n",
    "    \\def\\powni{\\pown{i}}\n",
    "    \\def\\powtest{\\pown{\\mbox{\\scriptsize test}}}\n",
    "    \\def\\powtrain{\\pown{\\mbox{\\scriptsize train}}}\n",
    "    \\def\\bX{\\mathbf{M}}\n",
    "    \\def\\bX{\\mathbf{X}}\n",
    "    \\def\\bZ{\\mathbf{Z}}\n",
    "    \\def\\bw{\\mathbf{m}}\n",
    "    \\def\\bx{\\mathbf{x}}\n",
    "    \\def\\by{\\mathbf{y}}\n",
    "    \\def\\bz{\\mathbf{z}}\n",
    "    \\def\\bw{\\mathbf{w}}\n",
    "    \\def\\btheta{{\\boldsymbol\\theta}}\n",
    "    \\def\\bSigma{{\\boldsymbol\\Sigma}}\n",
    "    \\def\\half{\\frac{1}{2}}\n",
    "$$"
   ],
   "cell_type": "markdown",
   "metadata": {}
  },
  {
   "source": [
    "# Qa\n",
    "\n",
    "import numpy as np\n",
    "\n",
    "y = np.array([1,2,3,4])\n",
    "\n",
    "x = np.array([[1,2,3], [4,2,1], [3,8,5], [-9,-1,0]])\n",
    "\n",
    "print(f\"{np.array([[1,2,3], [4,2,1], [3,8,5], [-9,-1,0]])}\")"
   ],
   "cell_type": "code",
   "metadata": {},
   "execution_count": 2,
   "outputs": [
    {
     "output_type": "stream",
     "name": "stdout",
     "text": [
      "[[ 1  2  3]\n [ 4  2  1]\n [ 3  8  5]\n [-9 -1  0]]\n"
     ]
    }
   ]
  },
  {
   "source": [
    "#### Qb Implement the L1 and L2 norms for vectors in python.\n",
    "\n",
    "from math import fabs\n",
    "\n",
    "def L1(x):\n",
    "     return np.sum(np.abs(x))\n",
    "\n",
    "def L2(x):\n",
    "    return (np.sum(x*x))**0.5\n",
    "\n",
    "def L2Dot(x):\n",
    "    return np.sqrt(x.dot(x))\n",
    "\n",
    "# TEST vectors: here I test your implementation...calling your L1() and L2() functions\n",
    "tx=np.array([1, 2, 3, -1])\n",
    "ty=np.array([3,-1, 4,  1])\n",
    "\n",
    "expected_d1=8.0\n",
    "expected_d2=4.242640687119285\n",
    "\n",
    "d1=L1(tx-ty)\n",
    "\n",
    "d2=L2(tx-ty)\n",
    "\n",
    "print(f\"tx-ty={tx-ty}, d1-expected_d1={d1-expected_d1}, d2-expected_d2={d2-expected_d2}\")\n",
    "\n",
    "eps=1E-9 # remember to import math for fabs\n",
    "assert fabs(d1-expected_d1)<eps, \"L1 dist seems to be wrong\" \n",
    "assert fabs(d2-expected_d2)<eps, \"L2 dist seems to be wrong\" \n",
    "\n",
    "# comment-in once your L2Dot fun is ready...\n",
    "d2dot=L2Dot(tx-ty)\n",
    "print(\"d2dot-expected_d2=\",d2dot-expected_d2)\n",
    "assert fabs(d2dot-expected_d2)<eps, \"L2Ddot dist seem to be wrong\" "
   ],
   "cell_type": "code",
   "metadata": {},
   "execution_count": 3,
   "outputs": [
    {
     "output_type": "stream",
     "name": "stdout",
     "text": [
      "tx-ty=[-2  3 -1 -2], d1-expected_d1=0.0, d2-expected_d2=0.0\nd2dot-expected_d2= 0.0\n"
     ]
    }
   ]
  },
  {
   "cell_type": "code",
   "execution_count": 8,
   "metadata": {},
   "outputs": [
    {
     "output_type": "stream",
     "name": "stdout",
     "text": [
      "RMSE=6.576473218982953, diff=2.6645352591003757e-15\n"
     ]
    }
   ],
   "source": [
    "# TODO: solve Qc...implement your RMSE function here\n",
    "\n",
    "\n",
    "def RMSE(y_pred,y_true):\n",
    "     return 1/2 * L2Dot(y_pred - y_true)\n",
    "\n",
    "\n",
    "\n",
    "# Dummy h function:\n",
    "def h(X):    \n",
    "    if X.ndim!=2:\n",
    "        raise ValueError(\"excpeted X to be of ndim=2, got ndim=\",X.ndim)\n",
    "    if X.shape[0]==0 or X.shape[1]==0:\n",
    "        raise ValueError(\"X got zero data along the 0/1 axis, cannot continue\")\n",
    "    return X[:,0]\n",
    "\n",
    "# Calls your RMSE() function:\n",
    "r=RMSE(h(x),y)\n",
    "\n",
    "# TEST vector:\n",
    "eps=1E-9\n",
    "expected=6.57647321898295\n",
    "print(f\"RMSE={r}, diff={r-expected}\")\n",
    "assert fabs(r-expected)<eps, \"your RMSE dist seems to be wrong\" "
   ]
  },
  {
   "cell_type": "code",
   "execution_count": 19,
   "metadata": {},
   "outputs": [
    {
     "output_type": "stream",
     "name": "stdout",
     "text": [
      "MAE=3.75, diff=0.0\n"
     ]
    }
   ],
   "source": [
    "def MAE(x,y):\n",
    "    return 1/len(y)*(L1(x - y))\n",
    "\n",
    "# Calls your MAE function:\n",
    "r=MAE(h(x), y)\n",
    "\n",
    "# TEST vector:\n",
    "expected=3.75\n",
    "print(f\"MAE={r}, diff={r-expected}\")\n",
    "assert fabs(r-expected)<eps, \"MAE dist seems to be wrong\" "
   ]
  },
  {
   "cell_type": "code",
   "execution_count": 36,
   "metadata": {},
   "outputs": [],
   "source": [
    "# Pythonic code:\n",
    "import numbers\n",
    "\n",
    "def L1(x):\n",
    "    if not (x.ndim == 1):\n",
    "        raise Exception(\"Faulty input dimensions for L1\")\n",
    "    result = np.sum(np.abs(x))\n",
    "    if not isinstance(result,Number):\n",
    "        raise Exception(\"L1 return val was not a number\")\n",
    "    return result \n",
    "\n",
    "def L2(x):\n",
    "    if not (x.ndim == 1):\n",
    "        raise Exception(\"Faulty input dimensions for L2\")\n",
    "    result = (np.sum(x*x))**0.5\n",
    "    if not isinstance(result,Number):\n",
    "        raise Exception(\"L2 return val was not a number\")\n",
    "    return result \n",
    "\n",
    "def L2Dot(x):\n",
    "    if not (x.ndim == 1):\n",
    "        raise Exception(\"Faulty input dimensions for L2Dot\")\n",
    "    result = np.sqrt(x.dot(x))\n",
    "    if not isinstance(result,numbers.Number):\n",
    "        raise Exception(\"L2Dot return val was not a number\")\n",
    "    return result \n",
    "\n",
    "def RMSE(y_pred,y_true):\n",
    "    if not (y_pred.ndim == 1 and y_true.ndim == 1 and y_pred.shape == y_true.shape):\n",
    "        raise Exception(\"Faulty input dimensions for RMSE\")\n",
    "    result = 1/2 * L2Dot(y_pred - y_true)\n",
    "    if not isinstance(result,numbers.Number):\n",
    "        raise Exception(\"RMSE return val was not a number\")\n",
    "    return result \n",
    "\n",
    "def MAE(y_pred,y_true):\n",
    "    if not (y_pred.ndim == 1 and y_true.ndim == 1 and y_pred.shape == y_true.shape):\n",
    "        raise Exception(\"Faulty input dimensions for MAE\")\n",
    "    result =  1/len(y)*(L1(x - y))\n",
    "    if not isinstance(result,numbers.Number):\n",
    "        raise Exception(\"MAE return val was not a number\")\n",
    "    return result \n",
    "\n"
   ]
  },
  {
   "cell_type": "code",
   "execution_count": 37,
   "metadata": {},
   "outputs": [
    {
     "output_type": "stream",
     "name": "stdout",
     "text": [
      "Faulty input dimensions for L1\nFaulty input dimensions for L2Dot\nFaulty input dimensions for RMSE\nRMSE ran succesfully\nFaulty input dimensions for RMSE\n"
     ]
    }
   ],
   "source": [
    "multi_dimensional = np.array([[1,2,3], [4,2,1], [3,8,5], [-9,-1,0]])\n",
    "len_4_a = np.array([1, 1, 3, -1])\n",
    "len_4_b = np.array([1, 2, 2, 7])\n",
    "len_5 = np.array([1, 2, 3, -1, 5])\n",
    "\n",
    "\n",
    "try:\n",
    "    L1(multi_dimensional)\n",
    "except Exception as e:\n",
    "    print(e)\n",
    "\n",
    "try:\n",
    "    L2Dot(multi_dimensional)\n",
    "except Exception as e:\n",
    "    print(e)\n",
    "\n",
    "try:\n",
    "    RMSE(multi_dimensional,len_4_a)\n",
    "except Exception as e:\n",
    "    print(e)\n",
    "\n",
    "try:\n",
    "    RMSE(len_4_b,len_4_a)\n",
    "    print(\"RMSE ran succesfully\")\n",
    "except Exception as e:\n",
    "    print(e)\n",
    "\n",
    "try:\n",
    "    RMSE(len_4_b,len_5)\n",
    "except Exception as e:\n",
    "    print(e)"
   ]
  },
  {
   "cell_type": "code",
   "execution_count": null,
   "metadata": {},
   "outputs": [],
   "source": []
  },
  {
   "cell_type": "code",
   "execution_count": null,
   "metadata": {},
   "outputs": [],
   "source": []
  }
 ]
}